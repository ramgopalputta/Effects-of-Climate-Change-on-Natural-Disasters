{
  "cells": [
    {
      "cell_type": "markdown",
      "metadata": {
        "id": "0870f698"
      },
      "source": [
        "## Do trends in C02 emissions impact natural disasters? Could governments save taxpayer dollars by reducing C02 emissions?"
      ],
      "id": "0870f698"
    },
    {
      "cell_type": "markdown",
      "metadata": {
        "id": "a8fb9f0e"
      },
      "source": [
        "### Import Libraries"
      ],
      "id": "a8fb9f0e"
    },
    {
      "cell_type": "code",
      "execution_count": null,
      "metadata": {
        "colab": {
          "base_uri": "https://localhost:8080/"
        },
        "id": "cc8fc287",
        "outputId": "a23577e1-ee89-4816-b241-323024373304"
      },
      "outputs": [
        {
          "name": "stdout",
          "output_type": "stream",
          "text": [
            "\u001b[2K     \u001b[90m━━━━━━━━━━━━━━━━━━━━━━━━━━━━━━━━━━━━━━━━\u001b[0m \u001b[32m1.1/1.1 MB\u001b[0m \u001b[31m8.5 MB/s\u001b[0m eta \u001b[36m0:00:00\u001b[0m\n",
            "\u001b[2K     \u001b[90m━━━━━━━━━━━━━━━━━━━━━━━━━━━━━━━━━━━━━━━━\u001b[0m \u001b[32m16.0/16.0 MB\u001b[0m \u001b[31m49.0 MB/s\u001b[0m eta \u001b[36m0:00:00\u001b[0m\n",
            "\u001b[2K     \u001b[90m━━━━━━━━━━━━━━━━━━━━━━━━━━━━━━━━━━━━━━━━\u001b[0m \u001b[32m7.8/7.8 MB\u001b[0m \u001b[31m33.3 MB/s\u001b[0m eta \u001b[36m0:00:00\u001b[0m\n",
            "\u001b[2K     \u001b[90m━━━━━━━━━━━━━━━━━━━━━━━━━━━━━━━━━━━━━━━\u001b[0m \u001b[32m56.3/56.3 KB\u001b[0m \u001b[31m164.2 kB/s\u001b[0m eta \u001b[36m0:00:00\u001b[0m\n",
            "\u001b[?25h"
          ]
        }
      ],
      "source": [
        "!pip install -q geopandas\n",
        "!pip install -q jsonschema==3.2\n",
        "\n",
        "import pandas as pd\n",
        "import altair as alt\n",
        "import numpy as np\n",
        "import re\n",
        "import geopandas as gpd\n",
        "from IPython.display import display, HTML\n",
        "\n",
        "import warnings\n",
        "warnings.filterwarnings('ignore')"
      ],
      "id": "cc8fc287"
    },
    {
      "cell_type": "markdown",
      "metadata": {
        "id": "66af6cc0"
      },
      "source": [
        "### Load the Data"
      ],
      "id": "66af6cc0"
    },
    {
      "cell_type": "code",
      "execution_count": null,
      "metadata": {
        "id": "9146d53a"
      },
      "outputs": [],
      "source": [
        "event = pd.read_csv('https://raw.githubusercontent.com/Prateek-MSDS/Do-trends-in-C02-emissions-impact-natural-disasters-/main/events-US-1980-2022.csv')\n",
        "emissions = pd.read_csv('https://raw.githubusercontent.com/Prateek-MSDS/Do-trends-in-C02-emissions-impact-natural-disasters-/main/CO2_Emissions_1960-2018.csv')\n",
        "disaster = pd.read_csv('https://raw.githubusercontent.com/Prateek-MSDS/Do-trends-in-C02-emissions-impact-natural-disasters-/main/natural-disasters.csv')\n",
        "disaster_cleaned = pd.read_excel('https://raw.githubusercontent.com/Prateek-MSDS/Do-trends-in-C02-emissions-impact-natural-disasters-/main/Disasters_renamed.xlsx')\n",
        "data_world = gpd.read_file('https://raw.githubusercontent.com/Prateek-MSDS/Do-trends-in-C02-emissions-impact-natural-disasters-/main/countries.geojson')\n"
      ],
      "id": "9146d53a"
    },
    {
      "cell_type": "markdown",
      "metadata": {
        "id": "08e4e88e"
      },
      "source": [
        "### Data Cleaning"
      ],
      "id": "08e4e88e"
    },
    {
      "cell_type": "markdown",
      "metadata": {
        "id": "352c019c"
      },
      "source": [
        "##### Emissions Data Frame"
      ],
      "id": "352c019c"
    },
    {
      "cell_type": "code",
      "execution_count": null,
      "metadata": {
        "id": "253fb869"
      },
      "outputs": [],
      "source": [
        "emissions_new = emissions.copy()\n",
        "\n",
        "emissions.loc['median_year']= emissions.median()\n",
        "\n",
        "emissions['Country Name'] = emissions['Country Name'].fillna(value='Global Median')\n",
        "\n",
        "avg_year = emissions.mean(axis=0)\n",
        "\n",
        "median_year = emissions.median(axis = 0)\n",
        "\n",
        "global_emissions = pd.melt(emissions, ['Country Name'], var_name = 'Year', value_name = 'Emissions')\n",
        "\n",
        "countries = emissions[emissions['Country Name'].isin(['Saudi Arabia','United Arab Emirates','Qatar','Chad','Malawi','United States','China','India','Global Median'])]\n",
        "\n",
        "countries_emissions = pd.melt(countries, ['Country Name'], var_name = 'Year', value_name = 'Emissions')\n",
        "\n",
        "filter_countries = countries_emissions[countries_emissions['Country Name'] != 'Global Median']\n",
        "\n",
        "filter_median = countries_emissions[countries_emissions['Country Name'] == 'Global Median']\n",
        "\n",
        "# Filtering the emissions for the last two decades.\n",
        "col_list= ['1998', '1999', '2000', '2001', '2002', '2003', '2004', '2005', '2006', '2007','2008', \n",
        "           '2009', '2010', '2011', '2012', '2013', '2014',\t'2015',\t'2016',\t'2017',\t'2018']\n",
        "\n",
        "df_emis_world = emissions.copy()\n",
        "\n",
        "# Converting dataframe from Wide to long form:\n",
        "df_ems_world_tidy = pd.melt(df_emis_world, id_vars=['Country Name'], var_name='Year', value_name='CO2')\n",
        "\n",
        "# Calculating the median CO2 emission vales per year:\n",
        "df_median_emis = df_ems_world_tidy.groupby('Year', as_index=False).median()\n",
        "\n",
        "# Converting 'Year' to numeric\n",
        "df_median_emis['Year'] = df_median_emis['Year'].astype(int)\n",
        "\n",
        "# Considering the years from 1980:\n",
        "df_median_emis = df_median_emis[df_median_emis['Year'] >= 1980]\n",
        "\n",
        "#Converting 'Year' to string \n",
        "#df_median_emis['Year'] = df_median_emis['Year'].astype(str)\n"
      ],
      "id": "253fb869"
    },
    {
      "cell_type": "markdown",
      "metadata": {
        "id": "27e740d8"
      },
      "source": [
        "##### Event Data Frame"
      ],
      "id": "27e740d8"
    },
    {
      "cell_type": "code",
      "execution_count": null,
      "metadata": {
        "id": "612ba682"
      },
      "outputs": [],
      "source": [
        "event['Begin Date'] = (event['Begin Date']/10000).astype(int)\n",
        "\n",
        "df_event_us = event\n",
        "\n",
        "# Dropping unwanted columns:\n",
        "df_event_us = df_event_us.drop(['End Date', 'Deaths'], axis=1)\n",
        "\n",
        "# Renaming the column name from 'Total CPI-Adjusted Cost (Millions of Dollars)' to 'Cost_US'\n",
        "df_event_us.rename(columns = {'Total CPI-Adjusted Cost (Millions of Dollars)': 'Cost_US'}, inplace = True)\n",
        "\n",
        "# Dropping the rows that containing values otherthan digits in 'Cost_US' column \n",
        "df_event_us = df_event_us[~df_event_us['Cost_US'].str.contains(\"[a-zA-Z]\").fillna(False)]\n",
        "\n",
        "# Considering the years only till 2018\n",
        "df_event_us = df_event_us[df_event_us['Begin Date'] < 2019] \n",
        "\n",
        "# Converting 'Total CPI-Adjusted Cost (Millions of Dollars)' from Object to Float type \n",
        "df_event_us['Cost_US'] = df_event_us['Cost_US'].astype(float)\n",
        "\n",
        "# Converting 'Begin Date' to string \n",
        "#df_event_us['Begin Date'] = df_event_us['Begin Date'].astype(str)\n",
        "\n",
        "# Total cost per year in USA:\n",
        "df_sum_cost_us = df_event_us.groupby('Begin Date', as_index=False).sum()\n",
        "\n",
        "# Renaming the column name:\n",
        "df_sum_cost_us.rename(columns = {'Begin Date': 'Year'}, inplace = True)\n",
        "\n",
        "df_merge_world_us = pd.merge(df_median_emis, df_sum_cost_us, how='left', on = 'Year')\n",
        "\n",
        "df_merge_world_us['Cost_per_C02'] = df_merge_world_us['Cost_US']/df_merge_world_us['CO2']"
      ],
      "id": "612ba682"
    },
    {
      "cell_type": "markdown",
      "metadata": {
        "id": "ee0f8e5f"
      },
      "source": [
        "#### Data World Dataframe"
      ],
      "id": "ee0f8e5f"
    },
    {
      "cell_type": "code",
      "execution_count": null,
      "metadata": {
        "id": "76fb70e0"
      },
      "outputs": [],
      "source": [
        "# Changing the column name and country names of 'data_world' table in accordance with the merging tables:\n",
        "data_world.rename(columns = {'ADMIN': 'Country Name'}, inplace = True)\n",
        "\n",
        "data_world['Country Name'] = data_world['Country Name'].replace(\n",
        "    ['United States of America', 'Russia', 'Yemen', 'Democratic Republic of the Congo', 'Republic of Congo' 'United Republic of Tanzania', 'Egypt', 'Venezuela',\n",
        "     'United Republic of Tanzania'], \n",
        "    ['United States','Russian Federation', 'Yemen, Rep.', 'Congo', 'Tanzania', 'Egypt, Arab Rep.', 'Venezuela, RB', 'Tanzania'])\n",
        "\n",
        "\n",
        "# Merging the CO2 emissions table and World data table:\n",
        "df_world = pd.merge(emissions, data_world, how='left', on = 'Country Name')\n",
        "df_world['mean_emission'] = df_world[col_list].mean(axis=1)\n",
        "\n",
        "df_filter = df_world.filter(['Country Name', 'mean_emission'])\n",
        "df_filter['Country Name'] = df_filter['Country Name'].replace(['Congo, Dem. Rep.' ], ['Congo'])\n",
        "df_world_new = pd.merge(data_world, df_filter, how='left', on = 'Country Name')\n",
        "dff = df_world_new.sort_values('mean_emission',ascending = False).head(20) \n"
      ],
      "id": "76fb70e0"
    },
    {
      "cell_type": "markdown",
      "metadata": {
        "id": "773ea621"
      },
      "source": [
        "#### Disaster Cleaned Dataframe"
      ],
      "id": "773ea621"
    },
    {
      "cell_type": "code",
      "execution_count": null,
      "metadata": {
        "id": "3a8e1b66"
      },
      "outputs": [],
      "source": [
        "df_disaster = disaster_cleaned\n",
        "df_dis= df_disaster[df_disaster['year'] >= 1998]\n",
        "\n",
        "df_sum = df_dis.groupby('Country', as_index=False).sum()\n",
        "df_filter_dis = df_sum.filter(['Country', 'people_affected_disasters', 'affected_disasters_million'])\n",
        "\n",
        "df_filter_dis.rename(columns = {'Country': 'Country Name'}, inplace = True)\n",
        "\n",
        "data_world['Country Name'] = data_world['Country Name'].replace(['Russian Federation', 'Egypt, Arab Rep.', 'Venezuela, RB', 'Yemen, Rep.'], \n",
        "                                                                ['Russia', 'Egypt', 'Venezuela', 'Yemen'])\n",
        "\n",
        "df_dis_top = df_filter_dis.sort_values('affected_disasters_million',ascending = False).dropna(\n",
        "    subset=['affected_disasters_million']).head(20)\n",
        "\n",
        "df_filter_dis.drop(df_filter_dis[df_filter_dis['Country Name'] == 'World'].index, inplace = True)\n",
        "\n",
        "# Merging the Disasters table and World data (with geographic locations of countries) table:\n",
        "df_world_disasters = pd.merge(data_world, df_filter_dis, how='left', on = 'Country Name')\n",
        "\n"
      ],
      "id": "3a8e1b66"
    },
    {
      "cell_type": "markdown",
      "metadata": {
        "id": "a1be6c05"
      },
      "source": [
        "##### Disaster Data Frame"
      ],
      "id": "a1be6c05"
    },
    {
      "cell_type": "code",
      "execution_count": null,
      "metadata": {
        "id": "0d242d62"
      },
      "outputs": [],
      "source": [
        "# Filter out only the columns required\n",
        "disaster_new = disaster[disaster.columns[disaster.columns.str.contains('^Number of deaths from|^Number of people affected|^Year|^Entity')]]\n",
        "\n",
        "# remove coulms with GDP and mass\n",
        "disaster_new = disaster_new[disaster_new.columns.drop(list(disaster_new.filter(regex='GDP|mass')))]\n",
        "\n",
        "# filter out additional colunms\n",
        "disaster_new = disaster_new.iloc[:, np.r_[0:2,3:5,\n",
        "                           6:8,9:11,\n",
        "                           12:14,15:17,\n",
        "                           18:20,21:23,\n",
        "                           24:26,27:29,\n",
        "                           30:32,33:35]]\n",
        "\n",
        "\n",
        "# Rename Extra words from the column names\n",
        "disaster_new.columns = disaster_new.columns.str.replace(r'.*of', '', regex=True)\n",
        "disaster_new.columns = disaster_new.columns.str.strip()\n",
        "\n",
        "# Tranpose the Data\n",
        "disaster_new = pd.melt(disaster_new, id_vars =['Entity','Year'], var_name=\"Col\", value_name=\"Count\")\n",
        "\n",
        "# Create a new column with flags Deaths and People Affected\n",
        "disaster_new['the_Impact'] = disaster_new['Col'].str.split().str[0]\n",
        "disaster_new['the_Impact'] = np.where(disaster_new['the_Impact']=='deaths', 'Deaths', 'Affected')\n",
        "\n",
        "# Extract the Disaster name from the columns\n",
        "disaster_new['Disasters'] = disaster_new['Col'].str.extract(r'(?=from|by)\\s*(.*)')\n",
        "disaster_new['Disasters'] = disaster_new['Disasters'].str.split(\" \", 1).str[1]\n",
        "\n",
        "# Replace the value for Total count of Disaster\n",
        "disaster_new['Disasters'] = disaster_new['Disasters'].replace('disasters', 'all')\n",
        "disaster_new['Disasters'] = disaster_new['Disasters'].replace('extreme temperatures', 'Extreme temp')\n",
        "\n",
        "# Capitalize first letter of the Disaster\n",
        "disaster_new['Disasters'] = disaster_new['Disasters'].str.capitalize()\n",
        "\n",
        "# Fill NAN values\n",
        "disaster_new['Count'] = disaster_new['Count'].fillna(0)\n",
        "\n",
        "# Re-order the Data Frame\n",
        "disaster_new = disaster_new[['Entity', 'Year','the_Impact','Disasters','Count']]\n",
        "\n",
        "# add a columns to bin year by 10 years\n",
        "disaster_new['Year_Bins'] = np.where(disaster_new['Year']<=1910, 1910,\n",
        "                            np.where((disaster_new['Year']>1910) & (disaster_new['Year']<=1920), 1920,\n",
        "                            np.where((disaster_new['Year']>1920) & (disaster_new['Year']<=1930), 1930,\n",
        "                            np.where((disaster_new['Year']>1930) & (disaster_new['Year']<=1940), 1940,\n",
        "                            np.where((disaster_new['Year']>1940) & (disaster_new['Year']<=1950), 1950,\n",
        "                            np.where((disaster_new['Year']>1950) & (disaster_new['Year']<=1960), 1960,\n",
        "                            np.where((disaster_new['Year']>1960) & (disaster_new['Year']<=1970), 1970,\n",
        "                            np.where((disaster_new['Year']>1970) & (disaster_new['Year']<=1980), 1980,\n",
        "                            np.where((disaster_new['Year']>1980) & (disaster_new['Year']<=1990), 1990,\n",
        "                            np.where((disaster_new['Year']>1990) & (disaster_new['Year']<=2000), 2000,\n",
        "                            np.where((disaster_new['Year']>2000) & (disaster_new['Year']<=2010), 2010, 2020)))))))))))\n",
        "\n",
        "\n",
        "\n",
        "\n",
        "# Filter records for the World\n",
        "world_disasters = disaster_new.loc[disaster_new['Entity']=='World', ]\n",
        "# Filter records for the USA\n",
        "usa_disasters = disaster_new.loc[disaster_new['Entity']=='United States', ]\n",
        "\n"
      ],
      "id": "0d242d62"
    },
    {
      "cell_type": "markdown",
      "metadata": {
        "id": "8e6bd1fb"
      },
      "source": [
        "### Most affected countries in the last two decades"
      ],
      "id": "8e6bd1fb"
    },
    {
      "cell_type": "code",
      "execution_count": null,
      "metadata": {
        "colab": {
          "background_save": true
        },
        "id": "c424f46a"
      },
      "outputs": [],
      "source": [
        "disasters_r = alt.Chart(df_world_disasters).mark_geoshape(stroke='#aaa', strokeWidth=0.25\n",
        ").project(\n",
        "    type='mercator'\n",
        ").encode(\n",
        "    alt.Color('affected_disasters_million:Q' \n",
        "              , scale=alt.Scale(scheme='yelloworangered')\n",
        "             ,legend=alt.Legend(title=\"People Affected Per Million\"\n",
        "                                , orient=\"none\"\n",
        "                                ,titleAnchor='middle'\n",
        "                                ,direction='horizontal'\n",
        "                                ,tickCount=7\n",
        "                                ,legendX=320, legendY=460\n",
        "                                )),       \n",
        "    tooltip = ['Country Name:N', alt.Tooltip('affected_disasters_million:Q', format= '.0f', \n",
        "                                             title = 'People affected (per million)') ]\n",
        ").properties(width=850,height=500, title = 'Most Affected Countries in the Last Two Decades'\n",
        ").configure_title(fontSize=18, anchor='middle', offset = 10\n",
        "                  ).configure_view(stroke=None).configure_view(stroke=None).configure_legend(\n",
        "    gradientLength=300,\n",
        "    gradientThickness=10,\n",
        "    gradientStrokeColor = 'black',\n",
        "    gradientStrokeWidth= 1\n",
        ") \n",
        "\n",
        "disasters_r  "
      ],
      "id": "c424f46a"
    },
    {
      "cell_type": "markdown",
      "metadata": {
        "id": "9b45aa45"
      },
      "source": [
        "### Countries with more number of people affected in the last two decades"
      ],
      "id": "9b45aa45"
    },
    {
      "cell_type": "code",
      "execution_count": null,
      "metadata": {
        "colab": {
          "background_save": true
        },
        "id": "aa95ddb6"
      },
      "outputs": [],
      "source": [
        "df_total_top = df_filter_dis.sort_values('people_affected_disasters'\n",
        "                                         ,ascending = False).dropna(subset=['people_affected_disasters']).head(5)\n",
        "\n",
        "\n",
        "df_total_top['Count_in_millions'] = df_total_top['people_affected_disasters']/1000000\n",
        "\n",
        "\n",
        "alt.Chart(df_total_top).mark_bar(color = '#e57a44', opacity = .8).encode(\n",
        "    alt.X('Country Name:N',sort ='-y', axis=alt.Axis(labelAngle=0\n",
        "                                                     #, minExtent=80\n",
        "                                                     , labelFontWeight = 700\n",
        "                                                     , labelFontSize = 12\n",
        "                                                     , title = None\n",
        "                                                     , tickSize=0\n",
        "                                                     ,labelPadding=7)),                                   \n",
        "    alt.Y('Count_in_millions:Q', axis=alt.Axis(title='Number of People Affected (in Millions)'\n",
        "                                               , titleFontSize = 15\n",
        "                                               , minExtent=38\n",
        "                                               ,labelPadding=7\n",
        "                                               , labelFontWeight = 700\n",
        "                                               , titleFontWeight = 400\n",
        "                                               , tickSize=0\n",
        "                                               ,format= '.0f'), scale=alt.Scale(type='sqrt'\n",
        "                                                                              , domain=[0, 2400]))              \n",
        ").properties(width = 570\n",
        "             ,height = 350\n",
        "             ,title = 'Top 5 Countries with Most People Affected in the last Two Decades'\n",
        ").configure_title(fontSize=17\n",
        "                  , font='Times New Roman'\n",
        "                  , anchor='middle'\n",
        "                  , offset = 12)\n",
        "\n",
        "\n",
        "                                  \n"
      ],
      "id": "aa95ddb6"
    },
    {
      "cell_type": "markdown",
      "metadata": {
        "id": "b1a0cf39"
      },
      "source": [
        "### Global trend of CO2 emissions"
      ],
      "id": "b1a0cf39"
    },
    {
      "cell_type": "code",
      "execution_count": null,
      "metadata": {
        "colab": {
          "background_save": true
        },
        "id": "cd41dc44"
      },
      "outputs": [],
      "source": [
        "countries = alt.Chart(filter_countries).mark_line(strokeWidth=2.5).encode(\n",
        "    alt.X('Year:T'),\n",
        "    alt.Y('Emissions:Q', title = 'CO2 Emissions (metric tons per capita)', scale = alt.Scale(type = 'sqrt')),\n",
        "    alt.Color('Country Name:N', title = 'Country Name')\n",
        ").properties(\n",
        "width=650,\n",
        "height=400\n",
        ")\n",
        "\n",
        "median = alt.Chart(filter_median).mark_line(strokeWidth=3\n",
        "                                            ,strokeDash=[8,4],\n",
        "                                           color = \"#F60030\").encode(\n",
        "    alt.X('Year:T', title= ''),\n",
        "    alt.Y('Emissions:Q', title = 'CO2 Emissions (metric tons per capita)'\n",
        "          , scale = alt.Scale(type = 'sqrt'))\n",
        ").properties(title = 'CO2 Emissions per Year',\n",
        "width=710,\n",
        "height=400\n",
        ")\n",
        "\n",
        "text = alt.Chart({'values':[{}]}).mark_text(text='Global Median', align=\"left\",color = \"#F60030\").encode(\n",
        " x=alt.value(520), y=alt.value(325))\n",
        "\n",
        "alt.layer(countries + median+text).configure_axis(\n",
        "     labelAngle=0,\n",
        "     labelFontSize=11,\n",
        "     titleFontSize=13).configure_title(fontSize=15\n",
        "                                              ,anchor='middle'\n",
        "                                              ,offset = 10).configure_legend(titleFontSize=12,labelFontSize=11\n",
        "                                                                             , symbolSize=200,\n",
        "                                                                            symbolStrokeWidth=4) "
      ],
      "id": "cd41dc44"
    },
    {
      "cell_type": "markdown",
      "metadata": {
        "id": "b302ac35"
      },
      "source": [
        "### Count of Disaster in the US"
      ],
      "id": "b302ac35"
    },
    {
      "cell_type": "code",
      "execution_count": null,
      "metadata": {
        "colab": {
          "background_save": true
        },
        "id": "ed28c310"
      },
      "outputs": [],
      "source": [
        "# Convert to datetime\n",
        "#event['Begin Date'] = pd.to_datetime(event['Begin Date'], format='%Y')\n",
        "\n",
        "# Extract the disasters list\n",
        "disaster_list = event['Disaster'].unique() # get unique field values\n",
        "disaster_list = list(filter(lambda d: d is not None, disaster_list)) # filter out None values\n",
        "disaster_list.sort() # sort alphabetically\n",
        "\n",
        "\n",
        "selectType = alt.selection_single(\n",
        "    name='Select', \n",
        "    fields=['Disaster'],\n",
        "    init={'Disaster': 'Severe Storm'}, \n",
        "    bind=alt.binding_select(options=disaster_list) \n",
        ")\n",
        "\n",
        "total_count = alt.Chart(event).mark_bar(color = '#e57a44', opacity = .6).transform_aggregate(\n",
        "    groupby = ['Begin Date'],\n",
        "    Count = 'count(Disaster)'\n",
        ").encode(\n",
        "    alt.X('Begin Date:N' , axis=alt.Axis(title = ''\n",
        "                          , labelPadding=5\n",
        "                          )),\n",
        "    alt.Y('Count:Q'\n",
        "          , axis=alt.Axis(title = ''\n",
        "                          , labelPadding=5\n",
        "                          , tickSize=0)\n",
        "          , stack = None)\n",
        ")\n",
        "\n",
        "disaster_count = alt.Chart(event).mark_bar(color = '#e57a44').transform_aggregate(\n",
        "    groupby = ['Disaster','Begin Date'],\n",
        "    Count = 'count(Disaster)'\n",
        ").add_selection(selectType).encode(\n",
        "    alt.X('Begin Date:N', title = ''),\n",
        "    alt.Y('Count:Q', title = '', stack = None),\n",
        "    opacity = alt.condition(selectType, alt.value(0.8), alt.value(0))\n",
        ")\n",
        "\n",
        "(disaster_count + total_count).properties(title = \"Count of Disasters in the US per Year\"\n",
        "                                          ,width=735, height=280).configure_axisBottom(\n",
        "    labelAngle = 60).configure_view(strokeWidth=0).configure_title(fontSize=15,\n",
        "                                                                   anchor='middle',\n",
        "                                                                   offset = 10)"
      ],
      "id": "ed28c310"
    },
    {
      "cell_type": "markdown",
      "metadata": {
        "id": "53df1a01"
      },
      "source": [
        "### Number of Deaths/Affected People per Year by Catastrophes - Static"
      ],
      "id": "53df1a01"
    },
    {
      "cell_type": "markdown",
      "metadata": {
        "id": "07d04c8c"
      },
      "source": [
        "    The data is grouped by 10 years starting from the year 1900 through 2020 and the y-axis is set to show count of people impacted."
      ],
      "id": "07d04c8c"
    },
    {
      "cell_type": "code",
      "execution_count": null,
      "metadata": {
        "colab": {
          "background_save": true
        },
        "id": "dc73755b"
      },
      "outputs": [],
      "source": [
        "# force altair to display all the rows\n",
        "alt.data_transformers.disable_max_rows()\n",
        "\n",
        "\n",
        "# World Bar chart\n",
        "world = alt.Chart(world_disasters).mark_bar(opacity = 0.8\n",
        "                                            , fill = \"#e57a44\").transform_filter(\n",
        "    'datum.the_Impact == \"Deaths\"'\n",
        ").transform_filter(\n",
        "    'datum.Disasters == \"All\"'\n",
        ").transform_calculate(\n",
        "    deaths='datum.Count' \n",
        ").encode(\n",
        "    alt.X('Year_Bins:O', title='',axis=alt.Axis(ticks=False, domain=False)),\n",
        "    alt.Y('sum(deaths):Q', title=' ',axis=alt.Axis(ticks=False, domain=False))\n",
        ").properties(width=735, \n",
        "             height=280, \n",
        "             title='Deaths by Catastrophes Around the World in every Decade')\n",
        "\n",
        "\n",
        "\n",
        "\n",
        "# USA Bar plot\n",
        "usa = alt.Chart(usa_disasters).mark_bar(opacity = 0.8\n",
        "                                        , fill = \"#e57a44\").transform_filter(\n",
        "    'datum.the_Impact == \"Deaths\"'\n",
        ").transform_filter(\n",
        "    'datum.Disasters == \"All\"'\n",
        ").transform_calculate(\n",
        "    deaths='datum.Count' \n",
        ").encode(\n",
        "    alt.X('Year_Bins:O', title='',axis=alt.Axis(ticks=False, domain=False)),\n",
        "    alt.Y('sum(deaths):Q', title=' ',axis=alt.Axis(ticks=False, domain=False))\n",
        ").properties(width=735, \n",
        "             height=280, \n",
        "             title='Deaths by Catastrophes in the USA in every Decade')\n",
        "\n",
        "\n",
        "# Concatenate the view\n",
        "(world & usa).configure_axis(\n",
        "     labelAngle=0,\n",
        "     labelFontSize=11,\n",
        "     titleFontSize=13).configure_title(fontSize=15).configure_legend(\n",
        " titleFontSize=12,\n",
        " labelFontSize=11).configure_view(strokeWidth=0)"
      ],
      "id": "dc73755b"
    },
    {
      "cell_type": "code",
      "execution_count": null,
      "metadata": {
        "colab": {
          "background_save": true
        },
        "id": "c4f89b92"
      },
      "outputs": [],
      "source": [
        "# force altair to display all the rows\n",
        "alt.data_transformers.disable_max_rows()\n",
        "\n",
        "\n",
        "# World Bar chart\n",
        "world = alt.Chart(world_disasters).mark_bar(opacity = 0.8\n",
        "                                            , fill = \"#e57a44\").transform_filter(\n",
        "    'datum.the_Impact == \"Affected\"'\n",
        ").transform_filter(\n",
        "    'datum.Year >= 1980'\n",
        ").transform_filter(\n",
        "    'datum.Disasters == \"All\"'\n",
        ").transform_calculate(\n",
        "    deaths='datum.Count/1000000' \n",
        ").encode(\n",
        "    alt.X('Year_Bins:O', title='',axis=alt.Axis(ticks=False, domain=False)),\n",
        "    alt.Y('sum(deaths):Q', title=' ',axis=alt.Axis(ticks=False, domain=False))\n",
        ").properties(width=635, \n",
        "             height=285, \n",
        "             title='People Affected (in Millions) by Catastrophes Around the World in every Decade')\n",
        "\n",
        "\n",
        "\n",
        "\n",
        "# USA Bar plot\n",
        "usa = alt.Chart(usa_disasters).mark_bar(opacity = 0.8\n",
        "                                        , fill = \"#e57a44\").transform_filter(\n",
        "    'datum.the_Impact == \"Affected\"'\n",
        ").transform_filter(\n",
        "    'datum.Year >= 1980'\n",
        ").transform_filter(\n",
        "    'datum.Disasters == \"All\"'\n",
        ").transform_calculate(\n",
        "    deaths='datum.Count/1000000' \n",
        ").encode(\n",
        "    alt.X('Year_Bins:O', title='',axis=alt.Axis(ticks=False, domain=False)),\n",
        "    alt.Y('sum(deaths):Q', title=' ',axis=alt.Axis(ticks=False, domain=False))\n",
        ").properties(width=635, \n",
        "             height=280, \n",
        "             title='People Affected (in Millions) by Catastrophes in the USA in every Decade')\n",
        "\n",
        "\n",
        "# Concatenate the view\n",
        "(world & usa).configure_axis(\n",
        "     labelAngle=0,\n",
        "     labelFontSize=11,\n",
        "     titleFontSize=13).configure_title(fontSize=15).configure_legend(\n",
        " titleFontSize=12,\n",
        " labelFontSize=11).configure_view(strokeWidth=1)"
      ],
      "id": "c4f89b92"
    },
    {
      "cell_type": "markdown",
      "metadata": {
        "id": "18b9d5c6"
      },
      "source": [
        "### Percentage of People Impacted by Catastrophes - Interactive"
      ],
      "id": "18b9d5c6"
    },
    {
      "cell_type": "code",
      "execution_count": null,
      "metadata": {
        "colab": {
          "background_save": true
        },
        "id": "64bf89f4"
      },
      "outputs": [],
      "source": [
        "# force altair to display all the rows\n",
        "alt.data_transformers.disable_max_rows()\n",
        "\n",
        "# CSS manipulation to set the interactive bindings posiiton\n",
        "display(HTML(\"\"\"\n",
        "<style>\n",
        "form.vega-bindings {\n",
        "  position: absolute;\n",
        "  left: 820px;\n",
        "  top: 50px;\n",
        "}\n",
        "</style>\n",
        "\"\"\"))\n",
        "\n",
        "#### World ########\n",
        "\n",
        "# Extract Whether affected or death for the world\n",
        "deaths_affected_list = world_disasters['the_Impact'].unique().tolist()\n",
        "\n",
        "# Interactive Selections\n",
        "selection = alt.selection_single(\n",
        "    name='Select',\n",
        "    fields=['the_Impact'],\n",
        "    init={'the_Impact': 'Deaths'},\n",
        "    bind={'the_Impact': alt.binding_radio(options=deaths_affected_list)}\n",
        ")\n",
        "\n",
        "\n",
        "# World Plot\n",
        "world = alt.Chart(world_disasters).mark_bar(opacity = 0.8\n",
        "                                    , fill = \"#e57a44\"\n",
        "                                    ,cornerRadiusTopLeft=3\n",
        "                                    ,cornerRadiusTopRight=3).transform_filter(\n",
        "    alt.FieldOneOfPredicate(field='Disasters'\n",
        "                            , oneOf=[\"Earthquakes\"\n",
        "                                     , \"Floods\"\n",
        "                                     , \"Volcanic activity\"\n",
        "                                     ,\"Drought\"\n",
        "                                     ,\"Landslides\"\n",
        "                                     ,\"Storms\"\n",
        "                                     ,\"Wildfires\"\n",
        "                                     ,\"Extreme temp\"])).add_selection(\n",
        "    selection\n",
        ").transform_filter(\n",
        "    selection\n",
        ").transform_aggregate(diss_count = 'sum(Count)'\n",
        "                      ,groupby=['Disasters']).transform_joinaggregate(\n",
        "    Total='sum(diss_count)',\n",
        ").transform_calculate(\n",
        "    PercentOfTotal=\"(datum.diss_count / datum.Total)\"\n",
        ").encode(\n",
        "    alt.X('Disasters:N', title='', sort='-y',axis=alt.Axis(ticks=False, domain=False)),\n",
        "    alt.Y('PercentOfTotal:Q', title=' ',axis=alt.Axis(ticks=False, domain=False,format='%'))\n",
        ").properties(width=750, \n",
        "             height=280, \n",
        "             title='Percentage of People Impacted by Catastrophes Around the World')\n",
        "\n",
        "\n",
        "######## USA###########\n",
        "\n",
        "# Extract Whether affected or death for the usa\n",
        "deaths_affected_list_usa = usa_disasters['the_Impact'].unique().tolist()\n",
        "\n",
        "# Interactive Selections for USA\n",
        "selection_usa = alt.selection_single(\n",
        "    name='Select',\n",
        "    fields=['the_Impact'],\n",
        "    init={'the_Impact': 'Deaths'},\n",
        "    bind={'the_Impact': alt.binding_radio(options=deaths_affected_list_usa)}\n",
        ")\n",
        "\n",
        "\n",
        "usa = alt.Chart(usa_disasters).mark_bar(opacity = 0.8\n",
        "                                    , fill = \"#e57a44\"\n",
        "                                    ,cornerRadiusTopLeft=3\n",
        "                                    ,cornerRadiusTopRight=3).transform_filter(\n",
        "    alt.FieldOneOfPredicate(field='Disasters'\n",
        "                            , oneOf=[\"Earthquakes\"\n",
        "                                     , \"Floods\"\n",
        "                                     , \"Volcanic activity\"\n",
        "                                     ,\"Drought\"\n",
        "                                     ,\"Landslides\"\n",
        "                                     ,\"Storms\"\n",
        "                                     ,\"Wildfires\"\n",
        "                                     ,\"Extreme temp\"])).add_selection(\n",
        "    selection_usa\n",
        ").transform_filter(\n",
        "    selection_usa\n",
        ").transform_aggregate(diss_count = 'sum(Count)'\n",
        "                      ,groupby=['Disasters']).transform_joinaggregate(\n",
        "    Total='sum(diss_count)',\n",
        ").transform_calculate(\n",
        "    PercentOfTotal=\"(datum.diss_count / datum.Total)\"\n",
        ").encode(\n",
        "    alt.X('Disasters:N', title='', sort='-y',axis=alt.Axis(ticks=False, domain=False)),\n",
        "    alt.Y('PercentOfTotal:Q', title=' ',axis=alt.Axis(ticks=False, domain=False,format='%'))\n",
        ").properties(width=750, \n",
        "             height=280, \n",
        "             title='Percentage of People Impacted by Catastrophes in the USA')\n",
        "\n",
        "text = alt.Chart({'values':[{}]}).mark_text(text='Percentages are based off the total count from the year 1980 to 2022'\n",
        "                                            , align=\"left\",color = \"gray\").encode(\n",
        " x=alt.value(250), y=alt.value(315))\n",
        "\n",
        "alt.vconcat(world , usa+text, spacing = 30).configure_axis(\n",
        "     labelAngle=0,\n",
        "     labelFontSize=11,\n",
        "     titleFontSize=13).configure_title(fontSize=15).configure_legend(\n",
        " titleFontSize=12,\n",
        " labelFontSize=11).configure_view(strokeWidth=0)\n"
      ],
      "id": "64bf89f4"
    },
    {
      "cell_type": "markdown",
      "metadata": {
        "id": "f885ec2a"
      },
      "source": [
        "### Cost of disasters for USA and Global CO2 emissions"
      ],
      "id": "f885ec2a"
    },
    {
      "cell_type": "code",
      "execution_count": null,
      "metadata": {
        "colab": {
          "background_save": true
        },
        "id": "2b9139bf"
      },
      "outputs": [],
      "source": [
        "# Line plot to show the Total cost of disasters per year for USA\n",
        "\n",
        "line_cost = alt.Chart(df_sum_cost_us).mark_line(strokeWidth=3, interpolate='monotone').transform_fold(\n",
        "    fold=['Cost_US'], \n",
        "    as_=['variable', 'value']\n",
        ").encode(\n",
        "    alt.X('Year:O', axis=alt.Axis(title =''\n",
        "                                  , values= [1980,2000,2018])),                                   \n",
        "    alt.Y('value:Q', axis=alt.Axis(title='Cost of disasters for USA (Million Dollars)'\n",
        "                                   , titleFontSize = 14\n",
        "                                   , minExtent=60\n",
        "                                   , titleFontWeight = 400,\n",
        "                                   labelColor = '#e57a44'\n",
        "                                   , labelFontWeight = 700\n",
        "                                   ,labelFontSize = 12\n",
        "                                  , tickSize=0\n",
        "                                  ,labelPadding=5), scale=alt.Scale(type='sqrt')),              \n",
        "    alt.Color('variable:N',title = '', legend= None, scale = alt.Scale(domain=['Cost_US'],range=['#e57a44']))\n",
        ").properties(width = 800,height = 350)\n",
        "\n",
        "            \n",
        "\n",
        "\n",
        "# Line plot to show the global CO2 emissions (metric tons/person) per year\n",
        "\n",
        "line_ems_world = alt.Chart(df_median_emis).mark_line(strokeWidth=3, interpolate='monotone').transform_fold(\n",
        "    fold=['CO2'], \n",
        "    as_=['variable', 'value']\n",
        ").encode(\n",
        "    alt.X('Year:O', axis=alt.Axis(title =''\n",
        "                                  , values= [1980,2000,2018])),                                   \n",
        "    alt.Y('value:Q',axis=alt.Axis(title='CO2 emissions (metric tons/person)'\n",
        "                                  , titleFontSize = 14, titleFontWeight = 400\n",
        "                                  , minExtent=30\n",
        "                                  , labelColor = '#1f78b4'\n",
        "                                  , labelFontWeight = 700\n",
        "                                  , labelFontSize = 12\n",
        "                                  ,labelAngle= -90\n",
        "                                  , labelPadding=5\n",
        "                                 , tickSize=0)),\n",
        "    alt.Color('variable:N', title = '', legend = None, scale = alt.Scale(domain=['CO2'],range=['#1f78b4']))   \n",
        ").properties(width = 800,height = 350)\n",
        "\n",
        "\n",
        "\n",
        "# Dashed line for total costs:\n",
        "\n",
        "point_cost = alt.Chart(df_sum_cost_us).mark_point(opacity = 0).encode(\n",
        "    alt.X('Year:O', axis=alt.Axis(title ='', labelAngle=0\n",
        "                                  , values= [1980,2000,2018]\n",
        "                                 , tickSize=0\n",
        "                                 , labelPadding=10\n",
        "                                  , labelFontWeight = 700\n",
        "                                  , labelFontSize = 12)),                                   \n",
        "    alt.Y('Cost_US:Q', axis=None, scale=alt.Scale(type='sqrt'))\n",
        ").properties(width = 800,height = 350)\n",
        "\n",
        "                                  \n",
        "\n",
        "reg_cost = point_cost + point_cost.transform_regression('Year'\n",
        "                                                        ,'Cost_US').mark_line(color=\"#e57a44\"\n",
        "                                                                              , strokeDash=[6,6])\n",
        "\n",
        "\n",
        "# Combined line plots for 'CO2 EMISSIONS (METRIC TONS/PERSON)' globally and 'TOTAL COSTS OF DISASTERS' for USA\n",
        "\n",
        "alt.layer(reg_cost, line_ems_world, line_cost).resolve_scale(y='independent'\n",
        "                                                             , color = 'independent',\n",
        ").properties(title = 'Yearly Global CO2 Emissions and Total Cost of Disaster for the USA'\n",
        ").configure_title(fontSize=18\n",
        "                  , font='Times New Roman'\n",
        "                  , anchor='middle'\n",
        "                  , offset = 20)\n"
      ],
      "id": "2b9139bf"
    },
    {
      "cell_type": "markdown",
      "metadata": {
        "id": "2d9dfca7"
      },
      "source": [
        "### Scatterplot with a regression line for visualizing CO2 emissions total cost of disaster"
      ],
      "id": "2d9dfca7"
    },
    {
      "cell_type": "code",
      "execution_count": null,
      "metadata": {
        "colab": {
          "background_save": true
        },
        "id": "5eeffc69",
        "scrolled": false
      },
      "outputs": [],
      "source": [
        "scatter = alt.Chart(df_merge_world_us).mark_point(color = '#e57a44').encode(\n",
        "    alt.X('Year:N', axis=alt.Axis(title ='',labelAngle=0, labelPadding=8,\n",
        "                                  titleFontSize = 14, titleFontWeight = 400, minExtent=30, \n",
        "                                  labelFontWeight = 600, labelFontSize = 10\n",
        "                                  , values=[1980, 2000, 2018], tickSize=0)),                                   \n",
        "    alt.Y('Cost_per_C02:Q', axis=alt.Axis(title='Cost of disasters per CO2 Emissions'\n",
        "                                          , titleFontSize = 14\n",
        "                                          , titleFontWeight = 400\n",
        "                                          , minExtent=30\n",
        "                                          ,labelFontWeight = 700\n",
        "                                          , labelFontSize = 10\n",
        "                                         , tickSize=0\n",
        "                                         ,labelPadding=8), scale=alt.Scale(type='sqrt'))\n",
        ").properties(width = 800,height = 350)\n",
        "\n",
        "\n",
        "reg_scatter = scatter + scatter.transform_regression('Year','Cost_per_C02').mark_line(strokeWidth=2\n",
        "                                                                                      , color = '#e57a44'\n",
        ").properties(title = 'Yearly Economic Costs per CO2 Emission for the USA')\n",
        "\n",
        "text = alt.Chart({'values':[{}]}).mark_text(text='Cost of Disasters per CO2 emissions is calulated as Cost (in Millions US Dollars) per CO2 emissions (Metric Tons per Capita)'\n",
        "                                            , align=\"left\",color = \"gray\").encode(\n",
        " x=alt.value(100), y=alt.value(390))\n",
        "\n",
        "alt.layer(reg_scatter, text).configure_title(fontSize=18, font='Times New Roman'\n",
        "                            , anchor='middle'\n",
        "                            , offset = 12)"
      ],
      "id": "5eeffc69"
    }
  ],
  "metadata": {
    "colab": {
      "provenance": []
    },
    "kernelspec": {
      "display_name": "Python 3 (ipykernel)",
      "language": "python",
      "name": "python3"
    },
    "language_info": {
      "codemirror_mode": {
        "name": "ipython",
        "version": 3
      },
      "file_extension": ".py",
      "mimetype": "text/x-python",
      "name": "python",
      "nbconvert_exporter": "python",
      "pygments_lexer": "ipython3",
      "version": "3.9.12"
    }
  },
  "nbformat": 4,
  "nbformat_minor": 5
}